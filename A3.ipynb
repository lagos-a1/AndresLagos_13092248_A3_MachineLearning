{
  "nbformat": 4,
  "nbformat_minor": 0,
  "metadata": {
    "colab": {
      "name": "A3.ipynb",
      "provenance": [],
      "toc_visible": true,
      "include_colab_link": true
    },
    "kernelspec": {
      "name": "python3",
      "display_name": "Python 3"
    }
  },
  "cells": [
    {
      "cell_type": "markdown",
      "metadata": {
        "id": "view-in-github",
        "colab_type": "text"
      },
      "source": [
        "<a href=\"https://colab.research.google.com/github/lagos-a1/AndresLagos_13092248_A3_MachineLearning/blob/master/A3.ipynb\" target=\"_parent\"><img src=\"https://colab.research.google.com/assets/colab-badge.svg\" alt=\"Open In Colab\"/></a>"
      ]
    },
    {
      "cell_type": "markdown",
      "metadata": {
        "id": "osBuvcuJIcGh",
        "colab_type": "text"
      },
      "source": [
        "# 1. Project Title\n",
        "\n",
        "Generating synthetic medical images for the prediction of prostate and breast cancer"
      ]
    },
    {
      "cell_type": "markdown",
      "metadata": {
        "id": "3Q8sakhSIuzO",
        "colab_type": "text"
      },
      "source": [
        "# 2. Introduction\n",
        "\n",
        "Artificial Intelligence (AI) techniques have been applied widely in different fields to solve problems with high performance in the prediction and classification of different task. For instance, the classification of medical images in the presence of different types of cancer (i.e. skin cancer, prostate and breast cancer) have been implemented to generate an early diagnosis and reduce risk of future complications. \n",
        "\n",
        "\n",
        "\n",
        "Early diagnostic of health problems in human beings can be addressed with the implementation of IA techniques in the classification of medical images. From the early days of the analysis of medical images, different methods and techniques in Machine Learning (ML) and IA have been a crucial key element for the decision of complex decision-making problems in health domain (Kazeminia et al. 2018). However, “The greatest challenge in the medical images domain” Frid-Adar et al. (2018, p. 1) is how to deal with the fewer number of sample images in some health pathologies to create a robust algorithm that helps to classify the presence of an anomaly in the cell. Therefore, the implementation of AI techniques such as Generative Adversarial Network (GAN) and Convolutional Neural Network (CNN) will provide AI technologies in the development of new techniques to improve the quality of human health. \n",
        "\n",
        "\n",
        "\n",
        "CNN and GAN are algorithms that have been widely implemented, especially in the health domain. CNN techniques help to classify medical images in benign or malign accordingly with a set of previous images were the classification has been done. However, the implementation of CNN required a big number of images to be evaluated, and in some human pathologies, this task can be complicated. Therefore, GAN can assist in generating synthetic medical images, where is difficult the presence of a large number of medical images and combining CNN will elaborate an accurate prediction were a health problem is present. \n"
      ]
    },
    {
      "cell_type": "markdown",
      "metadata": {
        "id": "QS4ilnZiM6wR",
        "colab_type": "text"
      },
      "source": [
        "# 3. Aims\n",
        "\n",
        "The aim of this project is to create a sophisticated method of generating synthetic medical images that will help to predict the presence of health problem."
      ]
    },
    {
      "cell_type": "markdown",
      "metadata": {
        "id": "Kf5EEQYCNHox",
        "colab_type": "text"
      },
      "source": [
        "## 3.1 Objectives\n",
        "\n",
        "**i)** Collect a data set with medical imaging of prostate and breast cancer. \n",
        "\n",
        "**ii)** Generate synthetic medical images with a deep learning technique “Generative Adversarial Networks (GANs)”. \n",
        "\n",
        "**iii)** Applied and Improve the performance of Convolutional Neural Network (CNN) in the prediction of the presence of cancer. \n",
        "\n",
        "**iv)** Demonstrate the performance of the method elaborated in the real prediction of prostate and breast cancer. \n"
      ]
    },
    {
      "cell_type": "markdown",
      "metadata": {
        "id": "ErVHFQJDOOe1",
        "colab_type": "text"
      },
      "source": [
        "# 4. Background "
      ]
    },
    {
      "cell_type": "markdown",
      "metadata": {
        "id": "KB-JfuCpS6-O",
        "colab_type": "text"
      },
      "source": [
        "# 5. Research project"
      ]
    },
    {
      "cell_type": "markdown",
      "metadata": {
        "id": "C3lbyn-mTdbB",
        "colab_type": "text"
      },
      "source": [
        "## 5.1 Significance\n",
        "\n",
        "Cancer is a major public health problem worldwide and is the second factor of death in the United States (Rebecca, Kimberly & Ahmedin 2017). Human cancer statistics depict an exponential increase of new cancer cases (in 2017, 1,688,780 presented in the United States) and cancer deaths ( in 2017, 600,920 presented in the United States) Rebecca, Kimberly & Ahmedin (2017, p. 7). Due to different factors such as the ageing of the population, climate change effects and a high increasing of stabilised risk factors (smoking, changing in reproductive behaviours and overweight).\n",
        "Early diagnosis of cancer can reduce drastically the risk of death. For instance, breast cancer recognized to be one of the most common cancer worldwide, early diagnosis has a high significance in human health, reducing high-risk of death or further complications. Additionally, prostate cancer with 252,710 (L, D & Ahmedin (2017, p. 10)) new male cases, estimated a common disease affecting males can be treated when is detected in the early stages of the disease. Many more examples can be highlighted to demonstrate the crucial stage where human cancer is detected (Wardle et al. 2015). Therefore, using AI technologies, especially CNN and GAN will bring a large number of benefit in human health and reducing the risk of death. \n",
        "\n",
        "The different health care centre will be implementing the proposed algorithm and will facilitate the diagnosis of breast and prostate cancer in early stages. With the proposed algorithm the risk of death in a new patient with the illness will be reduced by 40%."
      ]
    },
    {
      "cell_type": "markdown",
      "metadata": {
        "id": "QItCitWuTpcj",
        "colab_type": "text"
      },
      "source": [
        "## 5.2 Inovation "
      ]
    },
    {
      "cell_type": "markdown",
      "metadata": {
        "id": "tr6f42-STuEO",
        "colab_type": "text"
      },
      "source": [
        "## 5.3 Task list\n",
        "\n",
        "The project scope is presented below: \n",
        "\n",
        "•\tPrepare training data: Organize a large number of samples with prostate and breast cancer. Images must be labelled\n",
        "\n",
        "•\tImplement Generative Adversarial Network (GAN) and generate synthetic medical images\n",
        "\n",
        "•\tImplement a Convolutional Neural Network (CNN) to train the training data set\n",
        "\n",
        "•\tPrepare test data: Organize a large number of samples to implement CNN in the prediction of prostate and breast cancer\n",
        "\n",
        "•\tEvaluate the performance of the algorithm\n",
        "\n",
        "•\tElaborate a conclusion and the benefit of the project \n",
        "\n"
      ]
    },
    {
      "cell_type": "markdown",
      "metadata": {
        "id": "PZ_YhvJJVI2M",
        "colab_type": "text"
      },
      "source": [
        "\n",
        "**1. Prepare training data Task name Deliverable**\n",
        "\n",
        "\n",
        "\n",
        "1.1 Collect a large number of prostate and breast cancer samples\n",
        "\n",
        "\n",
        "1.2 Data exploration of the training data set\n",
        "\n",
        "1.3 Data Pre-processing\n",
        "\n",
        "1.4 Feature selection"
      ]
    },
    {
      "cell_type": "markdown",
      "metadata": {
        "id": "nkOJ9bq0Og_f",
        "colab_type": "text"
      },
      "source": [
        "**2. Implement Generative Adversarial Network (GAN)**\n",
        "\n",
        "2.1 Build GAN in python language programming \n",
        "\n",
        "2.2 Generate synthetic images \t\n",
        "\n",
        "2.3 Create a big data set of images with synthetic images \t\n",
        "\n"
      ]
    },
    {
      "cell_type": "markdown",
      "metadata": {
        "id": "Tgv3RBDUVp-G",
        "colab_type": "text"
      },
      "source": [
        "**3. Implement Convolutional Neural Network (CNN)** \n",
        "\n",
        "3.1 Build CNN in python language programming\t\n",
        "\n",
        "3.2 Train the human cancer image data set with CNN\n",
        "\n",
        "3.3 Classify images in malignant and benignant of the human cancer images\t\n"
      ]
    },
    {
      "cell_type": "markdown",
      "metadata": {
        "id": "G0S_2wthVwEG",
        "colab_type": "text"
      },
      "source": [
        "**4. Prepare test data**\n",
        "\n",
        "4.1 Collect a large number of prostate and breast cancer\t\n",
        "\n",
        "4.2 Data exploration of the test data set\t\n",
        "\n",
        "4.3 Data Pre-processing\t\n",
        "\n",
        "4.4 Feature selection\t\n"
      ]
    },
    {
      "cell_type": "markdown",
      "metadata": {
        "id": "7dLYNsn6V8eb",
        "colab_type": "text"
      },
      "source": [
        "**5. Evaluate the performance of the algorithm** \n",
        "\n",
        "5.1 Evaluate error rate and accuracy of the model implemented\t\n",
        "\n",
        "5.2 Visualize the performance of the algorithm with AUC (Area Under the Curve) and ROC (Receiver Operating Characteristics) \t\n"
      ]
    },
    {
      "cell_type": "markdown",
      "metadata": {
        "id": "sEt6_BINWD2N",
        "colab_type": "text"
      },
      "source": [
        "**6. Elaborate a conclusion and the benefit of the project**\n",
        "\n",
        "\n",
        "6.1 Evaluate the final benefit of the project \n",
        "\n",
        "6.2 Create further application of the project in the classification of human cancer \t\n"
      ]
    },
    {
      "cell_type": "markdown",
      "metadata": {
        "id": "ylgbcuqBWK5d",
        "colab_type": "text"
      },
      "source": [
        "## 5.4 Gant Chart \n",
        "\n",
        "The proposed project must be completed within one year. Gantt chart is presented as follow:"
      ]
    },
    {
      "cell_type": "code",
      "metadata": {
        "id": "uX9ZSuS0XpKk",
        "colab_type": "code",
        "colab": {
          "base_uri": "https://localhost:8080/",
          "height": 617
        },
        "outputId": "29afa3ab-b240-480a-a337-13798a1634c1"
      },
      "source": [
        "import plotly.figure_factory as ff\n",
        "\n",
        "df = [dict(Task=\"Task 1.1\", Start='2020-01-01', Finish='2020-03-01', Resource='Task1'),\n",
        "      dict(Task=\"Task 1.2\", Start='2020-03-01', Finish='2020-04-01', Resource='Task1'),\n",
        "      dict(Task=\"Task 1.3\", Start='2020-04-01', Finish='2020-04-15', Resource='Task1'),\n",
        "      dict(Task=\"Task 1.4\", Start='2020-04-15', Finish='2020-04-26', Resource='Task1'),\n",
        "      dict(Task=\"Task 2.1\", Start='2020-01-01', Finish='2020-02-15', Resource='Task2'),\n",
        "      dict(Task=\"Task 2.2\", Start='2020-04-26', Finish='2020-05-30', Resource='Task2'),\n",
        "      dict(Task=\"Task 2.3\", Start='2020-05-30', Finish='2020-06-20', Resource='Task2'),\n",
        "      dict(Task=\"Task 3.1\", Start='2020-01-01', Finish='2020-02-15', Resource='Task3'),\n",
        "      dict(Task=\"Task 3.2\", Start='2020-06-20', Finish='2020-07-30', Resource='Task3'),\n",
        "      dict(Task=\"Task 3.3\", Start='2020-07-30', Finish='2020-08-03', Resource='Task3'),\n",
        "      dict(Task=\"Task 4.1\", Start='2020-01-01', Finish='2020-03-01', Resource='Task4'),\n",
        "      dict(Task=\"Task 4.2\", Start='2020-03-01', Finish='2020-04-01', Resource='Task4'),\n",
        "      dict(Task=\"Task 4.3\", Start='2020-04-01', Finish='2020-04-15', Resource='Task4'),\n",
        "      dict(Task=\"Task 4.4\", Start='2020-04-15', Finish='2020-04-26', Resource='Task4'),\n",
        "      dict(Task=\"Task 5.1\", Start='2020-08-03', Finish='2020-09-03', Resource='Task5'),\n",
        "      dict(Task=\"Task 5.2\", Start='2020-09-03', Finish='2020-09-20', Resource='Task5'),\n",
        "      dict(Task=\"Task 6.1\", Start='2020-09-20', Finish='2020-10-30', Resource='Task6'),\n",
        "      dict(Task=\"Task 6.2\", Start='2020-10-30', Finish='2020-12-30', Resource='Task6'),\n",
        "     \n",
        "     ]\n",
        "\n",
        "colors = dict(Task1 ='rgb(220, 0, 0)', Task2='rgb(170, 14, 200)', Task3=(1, 0.9, 0.16), Task4 ='rgb(128, 128, 128)', Task5 ='rgb(0, 128, 128)', Task6 ='rgb(0, 255, 0)')\n",
        "\n",
        "fig = ff.create_gantt(df, colors=colors, index_col='Resource', show_colorbar=True)\n",
        "fig.show()"
      ],
      "execution_count": 8,
      "outputs": [
        {
          "output_type": "display_data",
          "data": {
            "text/html": [
              "<html>\n",
              "<head><meta charset=\"utf-8\" /></head>\n",
              "<body>\n",
              "    <div>\n",
              "            <script src=\"https://cdnjs.cloudflare.com/ajax/libs/mathjax/2.7.5/MathJax.js?config=TeX-AMS-MML_SVG\"></script><script type=\"text/javascript\">if (window.MathJax) {MathJax.Hub.Config({SVG: {font: \"STIX-Web\"}});}</script>\n",
              "                <script type=\"text/javascript\">window.PlotlyConfig = {MathJaxConfig: 'local'};</script>\n",
              "        <script src=\"https://cdn.plot.ly/plotly-latest.min.js\"></script>    \n",
              "            <div id=\"f64a2b7d-e374-4db1-9133-8478a92e7720\" class=\"plotly-graph-div\" style=\"height:600px; width:100%;\"></div>\n",
              "            <script type=\"text/javascript\">\n",
              "                \n",
              "                    window.PLOTLYENV=window.PLOTLYENV || {};\n",
              "                    \n",
              "                if (document.getElementById(\"f64a2b7d-e374-4db1-9133-8478a92e7720\")) {\n",
              "                    Plotly.newPlot(\n",
              "                        'f64a2b7d-e374-4db1-9133-8478a92e7720',\n",
              "                        [{\"fill\": \"toself\", \"fillcolor\": \"rgb(0, 128, 128)\", \"hoverinfo\": \"name\", \"legendgroup\": \"rgb(0, 128, 128)\", \"mode\": \"none\", \"name\": \"Task5\", \"type\": \"scatter\", \"x\": [\"2020-08-03\", \"2020-09-03\", \"2020-09-03\", \"2020-08-03\", \"2020-08-03\", \"2020-09-03\", \"2020-09-20\", \"2020-09-20\", \"2020-09-03\"], \"y\": [13.8, 13.8, 14.2, 14.2, null, 14.8, 14.8, 15.2, 15.2]}, {\"fill\": \"toself\", \"fillcolor\": \"rgb(0, 255, 0)\", \"hoverinfo\": \"name\", \"legendgroup\": \"rgb(0, 255, 0)\", \"mode\": \"none\", \"name\": \"Task6\", \"type\": \"scatter\", \"x\": [\"2020-09-20\", \"2020-10-30\", \"2020-10-30\", \"2020-09-20\", \"2020-09-20\", \"2020-10-30\", \"2020-12-30\", \"2020-12-30\", \"2020-10-30\"], \"y\": [15.8, 15.8, 16.2, 16.2, null, 16.8, 16.8, 17.2, 17.2]}, {\"fill\": \"toself\", \"fillcolor\": \"rgb(128, 128, 128)\", \"hoverinfo\": \"name\", \"legendgroup\": \"rgb(128, 128, 128)\", \"mode\": \"none\", \"name\": \"Task4\", \"type\": \"scatter\", \"x\": [\"2020-01-01\", \"2020-03-01\", \"2020-03-01\", \"2020-01-01\", \"2020-01-01\", \"2020-03-01\", \"2020-04-01\", \"2020-04-01\", \"2020-03-01\", \"2020-03-01\", \"2020-04-01\", \"2020-04-15\", \"2020-04-15\", \"2020-04-01\", \"2020-04-01\", \"2020-04-15\", \"2020-04-26\", \"2020-04-26\", \"2020-04-15\"], \"y\": [9.8, 9.8, 10.2, 10.2, null, 10.8, 10.8, 11.2, 11.2, null, 11.8, 11.8, 12.2, 12.2, null, 12.8, 12.8, 13.2, 13.2]}, {\"fill\": \"toself\", \"fillcolor\": \"rgb(170, 14, 200)\", \"hoverinfo\": \"name\", \"legendgroup\": \"rgb(170, 14, 200)\", \"mode\": \"none\", \"name\": \"Task2\", \"type\": \"scatter\", \"x\": [\"2020-01-01\", \"2020-02-15\", \"2020-02-15\", \"2020-01-01\", \"2020-01-01\", \"2020-04-26\", \"2020-05-30\", \"2020-05-30\", \"2020-04-26\", \"2020-04-26\", \"2020-05-30\", \"2020-06-20\", \"2020-06-20\", \"2020-05-30\"], \"y\": [3.8, 3.8, 4.2, 4.2, null, 4.8, 4.8, 5.2, 5.2, null, 5.8, 5.8, 6.2, 6.2]}, {\"fill\": \"toself\", \"fillcolor\": \"rgb(220, 0, 0)\", \"hoverinfo\": \"name\", \"legendgroup\": \"rgb(220, 0, 0)\", \"mode\": \"none\", \"name\": \"Task1\", \"type\": \"scatter\", \"x\": [\"2020-01-01\", \"2020-03-01\", \"2020-03-01\", \"2020-01-01\", \"2020-01-01\", \"2020-03-01\", \"2020-04-01\", \"2020-04-01\", \"2020-03-01\", \"2020-03-01\", \"2020-04-01\", \"2020-04-15\", \"2020-04-15\", \"2020-04-01\", \"2020-04-01\", \"2020-04-15\", \"2020-04-26\", \"2020-04-26\", \"2020-04-15\"], \"y\": [-0.2, -0.2, 0.2, 0.2, null, 0.8, 0.8, 1.2, 1.2, null, 1.8, 1.8, 2.2, 2.2, null, 2.8, 2.8, 3.2, 3.2]}, {\"fill\": \"toself\", \"fillcolor\": \"rgb(255, 230, 41)\", \"hoverinfo\": \"name\", \"legendgroup\": \"rgb(255, 230, 41)\", \"mode\": \"none\", \"name\": \"Task3\", \"type\": \"scatter\", \"x\": [\"2020-01-01\", \"2020-02-15\", \"2020-02-15\", \"2020-01-01\", \"2020-01-01\", \"2020-06-20\", \"2020-07-30\", \"2020-07-30\", \"2020-06-20\", \"2020-06-20\", \"2020-07-30\", \"2020-08-03\", \"2020-08-03\", \"2020-07-30\"], \"y\": [6.8, 6.8, 7.2, 7.2, null, 7.8, 7.8, 8.2, 8.2, null, 8.8, 8.8, 9.2, 9.2]}, {\"legendgroup\": \"rgb(0, 128, 128)\", \"marker\": {\"color\": \"rgb(0, 128, 128)\", \"opacity\": 0, \"size\": 1}, \"mode\": \"markers\", \"name\": \"\", \"showlegend\": false, \"text\": [null, null, null, null], \"type\": \"scatter\", \"x\": [\"2020-08-03\", \"2020-09-03\", \"2020-09-03\", \"2020-09-20\"], \"y\": [14, 14, 15, 15]}, {\"legendgroup\": \"rgb(0, 255, 0)\", \"marker\": {\"color\": \"rgb(0, 255, 0)\", \"opacity\": 0, \"size\": 1}, \"mode\": \"markers\", \"name\": \"\", \"showlegend\": false, \"text\": [null, null, null, null], \"type\": \"scatter\", \"x\": [\"2020-09-20\", \"2020-10-30\", \"2020-10-30\", \"2020-12-30\"], \"y\": [16, 16, 17, 17]}, {\"legendgroup\": \"rgb(128, 128, 128)\", \"marker\": {\"color\": \"rgb(128, 128, 128)\", \"opacity\": 0, \"size\": 1}, \"mode\": \"markers\", \"name\": \"\", \"showlegend\": false, \"text\": [null, null, null, null, null, null, null, null], \"type\": \"scatter\", \"x\": [\"2020-01-01\", \"2020-03-01\", \"2020-03-01\", \"2020-04-01\", \"2020-04-01\", \"2020-04-15\", \"2020-04-15\", \"2020-04-26\"], \"y\": [10, 10, 11, 11, 12, 12, 13, 13]}, {\"legendgroup\": \"rgb(170, 14, 200)\", \"marker\": {\"color\": \"rgb(170, 14, 200)\", \"opacity\": 0, \"size\": 1}, \"mode\": \"markers\", \"name\": \"\", \"showlegend\": false, \"text\": [null, null, null, null, null, null], \"type\": \"scatter\", \"x\": [\"2020-01-01\", \"2020-02-15\", \"2020-04-26\", \"2020-05-30\", \"2020-05-30\", \"2020-06-20\"], \"y\": [4, 4, 5, 5, 6, 6]}, {\"legendgroup\": \"rgb(220, 0, 0)\", \"marker\": {\"color\": \"rgb(220, 0, 0)\", \"opacity\": 0, \"size\": 1}, \"mode\": \"markers\", \"name\": \"\", \"showlegend\": false, \"text\": [null, null, null, null, null, null, null, null], \"type\": \"scatter\", \"x\": [\"2020-01-01\", \"2020-03-01\", \"2020-03-01\", \"2020-04-01\", \"2020-04-01\", \"2020-04-15\", \"2020-04-15\", \"2020-04-26\"], \"y\": [0, 0, 1, 1, 2, 2, 3, 3]}, {\"legendgroup\": \"rgb(255, 230, 41)\", \"marker\": {\"color\": \"rgb(255, 230, 41)\", \"opacity\": 0, \"size\": 1}, \"mode\": \"markers\", \"name\": \"\", \"showlegend\": false, \"text\": [null, null, null, null, null, null], \"type\": \"scatter\", \"x\": [\"2020-01-01\", \"2020-02-15\", \"2020-06-20\", \"2020-07-30\", \"2020-07-30\", \"2020-08-03\"], \"y\": [7, 7, 8, 8, 9, 9]}],\n",
              "                        {\"height\": 600, \"hovermode\": \"closest\", \"showlegend\": true, \"template\": {\"data\": {\"bar\": [{\"error_x\": {\"color\": \"#2a3f5f\"}, \"error_y\": {\"color\": \"#2a3f5f\"}, \"marker\": {\"line\": {\"color\": \"#E5ECF6\", \"width\": 0.5}}, \"type\": \"bar\"}], \"barpolar\": [{\"marker\": {\"line\": {\"color\": \"#E5ECF6\", \"width\": 0.5}}, \"type\": \"barpolar\"}], \"carpet\": [{\"aaxis\": {\"endlinecolor\": \"#2a3f5f\", \"gridcolor\": \"white\", \"linecolor\": \"white\", \"minorgridcolor\": \"white\", \"startlinecolor\": \"#2a3f5f\"}, \"baxis\": {\"endlinecolor\": \"#2a3f5f\", \"gridcolor\": \"white\", \"linecolor\": \"white\", \"minorgridcolor\": \"white\", \"startlinecolor\": \"#2a3f5f\"}, \"type\": \"carpet\"}], \"choropleth\": [{\"colorbar\": {\"outlinewidth\": 0, \"ticks\": \"\"}, \"type\": \"choropleth\"}], \"contour\": [{\"colorbar\": {\"outlinewidth\": 0, \"ticks\": \"\"}, \"colorscale\": [[0.0, \"#0d0887\"], [0.1111111111111111, \"#46039f\"], [0.2222222222222222, \"#7201a8\"], [0.3333333333333333, \"#9c179e\"], [0.4444444444444444, \"#bd3786\"], [0.5555555555555556, \"#d8576b\"], [0.6666666666666666, \"#ed7953\"], [0.7777777777777778, \"#fb9f3a\"], [0.8888888888888888, \"#fdca26\"], [1.0, \"#f0f921\"]], \"type\": \"contour\"}], \"contourcarpet\": [{\"colorbar\": {\"outlinewidth\": 0, \"ticks\": \"\"}, \"type\": \"contourcarpet\"}], \"heatmap\": [{\"colorbar\": {\"outlinewidth\": 0, \"ticks\": \"\"}, \"colorscale\": [[0.0, \"#0d0887\"], [0.1111111111111111, \"#46039f\"], [0.2222222222222222, \"#7201a8\"], [0.3333333333333333, \"#9c179e\"], [0.4444444444444444, \"#bd3786\"], [0.5555555555555556, \"#d8576b\"], [0.6666666666666666, \"#ed7953\"], [0.7777777777777778, \"#fb9f3a\"], [0.8888888888888888, \"#fdca26\"], [1.0, \"#f0f921\"]], \"type\": \"heatmap\"}], \"heatmapgl\": [{\"colorbar\": {\"outlinewidth\": 0, \"ticks\": \"\"}, \"colorscale\": [[0.0, \"#0d0887\"], [0.1111111111111111, \"#46039f\"], [0.2222222222222222, \"#7201a8\"], [0.3333333333333333, \"#9c179e\"], [0.4444444444444444, \"#bd3786\"], [0.5555555555555556, \"#d8576b\"], [0.6666666666666666, \"#ed7953\"], [0.7777777777777778, \"#fb9f3a\"], [0.8888888888888888, \"#fdca26\"], [1.0, \"#f0f921\"]], \"type\": \"heatmapgl\"}], \"histogram\": [{\"marker\": {\"colorbar\": {\"outlinewidth\": 0, \"ticks\": \"\"}}, \"type\": \"histogram\"}], \"histogram2d\": [{\"colorbar\": {\"outlinewidth\": 0, \"ticks\": \"\"}, \"colorscale\": [[0.0, \"#0d0887\"], [0.1111111111111111, \"#46039f\"], [0.2222222222222222, \"#7201a8\"], [0.3333333333333333, \"#9c179e\"], [0.4444444444444444, \"#bd3786\"], [0.5555555555555556, \"#d8576b\"], [0.6666666666666666, \"#ed7953\"], [0.7777777777777778, \"#fb9f3a\"], [0.8888888888888888, \"#fdca26\"], [1.0, \"#f0f921\"]], \"type\": \"histogram2d\"}], \"histogram2dcontour\": [{\"colorbar\": {\"outlinewidth\": 0, \"ticks\": \"\"}, \"colorscale\": [[0.0, \"#0d0887\"], [0.1111111111111111, \"#46039f\"], [0.2222222222222222, \"#7201a8\"], [0.3333333333333333, \"#9c179e\"], [0.4444444444444444, \"#bd3786\"], [0.5555555555555556, \"#d8576b\"], [0.6666666666666666, \"#ed7953\"], [0.7777777777777778, \"#fb9f3a\"], [0.8888888888888888, \"#fdca26\"], [1.0, \"#f0f921\"]], \"type\": \"histogram2dcontour\"}], \"mesh3d\": [{\"colorbar\": {\"outlinewidth\": 0, \"ticks\": \"\"}, \"type\": \"mesh3d\"}], \"parcoords\": [{\"line\": {\"colorbar\": {\"outlinewidth\": 0, \"ticks\": \"\"}}, \"type\": \"parcoords\"}], \"scatter\": [{\"marker\": {\"colorbar\": {\"outlinewidth\": 0, \"ticks\": \"\"}}, \"type\": \"scatter\"}], \"scatter3d\": [{\"line\": {\"colorbar\": {\"outlinewidth\": 0, \"ticks\": \"\"}}, \"marker\": {\"colorbar\": {\"outlinewidth\": 0, \"ticks\": \"\"}}, \"type\": \"scatter3d\"}], \"scattercarpet\": [{\"marker\": {\"colorbar\": {\"outlinewidth\": 0, \"ticks\": \"\"}}, \"type\": \"scattercarpet\"}], \"scattergeo\": [{\"marker\": {\"colorbar\": {\"outlinewidth\": 0, \"ticks\": \"\"}}, \"type\": \"scattergeo\"}], \"scattergl\": [{\"marker\": {\"colorbar\": {\"outlinewidth\": 0, \"ticks\": \"\"}}, \"type\": \"scattergl\"}], \"scattermapbox\": [{\"marker\": {\"colorbar\": {\"outlinewidth\": 0, \"ticks\": \"\"}}, \"type\": \"scattermapbox\"}], \"scatterpolar\": [{\"marker\": {\"colorbar\": {\"outlinewidth\": 0, \"ticks\": \"\"}}, \"type\": \"scatterpolar\"}], \"scatterpolargl\": [{\"marker\": {\"colorbar\": {\"outlinewidth\": 0, \"ticks\": \"\"}}, \"type\": \"scatterpolargl\"}], \"scatterternary\": [{\"marker\": {\"colorbar\": {\"outlinewidth\": 0, \"ticks\": \"\"}}, \"type\": \"scatterternary\"}], \"surface\": [{\"colorbar\": {\"outlinewidth\": 0, \"ticks\": \"\"}, \"colorscale\": [[0.0, \"#0d0887\"], [0.1111111111111111, \"#46039f\"], [0.2222222222222222, \"#7201a8\"], [0.3333333333333333, \"#9c179e\"], [0.4444444444444444, \"#bd3786\"], [0.5555555555555556, \"#d8576b\"], [0.6666666666666666, \"#ed7953\"], [0.7777777777777778, \"#fb9f3a\"], [0.8888888888888888, \"#fdca26\"], [1.0, \"#f0f921\"]], \"type\": \"surface\"}], \"table\": [{\"cells\": {\"fill\": {\"color\": \"#EBF0F8\"}, \"line\": {\"color\": \"white\"}}, \"header\": {\"fill\": {\"color\": \"#C8D4E3\"}, \"line\": {\"color\": \"white\"}}, \"type\": \"table\"}]}, \"layout\": {\"annotationdefaults\": {\"arrowcolor\": \"#2a3f5f\", \"arrowhead\": 0, \"arrowwidth\": 1}, \"colorscale\": {\"diverging\": [[0, \"#8e0152\"], [0.1, \"#c51b7d\"], [0.2, \"#de77ae\"], [0.3, \"#f1b6da\"], [0.4, \"#fde0ef\"], [0.5, \"#f7f7f7\"], [0.6, \"#e6f5d0\"], [0.7, \"#b8e186\"], [0.8, \"#7fbc41\"], [0.9, \"#4d9221\"], [1, \"#276419\"]], \"sequential\": [[0.0, \"#0d0887\"], [0.1111111111111111, \"#46039f\"], [0.2222222222222222, \"#7201a8\"], [0.3333333333333333, \"#9c179e\"], [0.4444444444444444, \"#bd3786\"], [0.5555555555555556, \"#d8576b\"], [0.6666666666666666, \"#ed7953\"], [0.7777777777777778, \"#fb9f3a\"], [0.8888888888888888, \"#fdca26\"], [1.0, \"#f0f921\"]], \"sequentialminus\": [[0.0, \"#0d0887\"], [0.1111111111111111, \"#46039f\"], [0.2222222222222222, \"#7201a8\"], [0.3333333333333333, \"#9c179e\"], [0.4444444444444444, \"#bd3786\"], [0.5555555555555556, \"#d8576b\"], [0.6666666666666666, \"#ed7953\"], [0.7777777777777778, \"#fb9f3a\"], [0.8888888888888888, \"#fdca26\"], [1.0, \"#f0f921\"]]}, \"colorway\": [\"#636efa\", \"#EF553B\", \"#00cc96\", \"#ab63fa\", \"#FFA15A\", \"#19d3f3\", \"#FF6692\", \"#B6E880\", \"#FF97FF\", \"#FECB52\"], \"font\": {\"color\": \"#2a3f5f\"}, \"geo\": {\"bgcolor\": \"white\", \"lakecolor\": \"white\", \"landcolor\": \"#E5ECF6\", \"showlakes\": true, \"showland\": true, \"subunitcolor\": \"white\"}, \"hoverlabel\": {\"align\": \"left\"}, \"hovermode\": \"closest\", \"mapbox\": {\"style\": \"light\"}, \"paper_bgcolor\": \"white\", \"plot_bgcolor\": \"#E5ECF6\", \"polar\": {\"angularaxis\": {\"gridcolor\": \"white\", \"linecolor\": \"white\", \"ticks\": \"\"}, \"bgcolor\": \"#E5ECF6\", \"radialaxis\": {\"gridcolor\": \"white\", \"linecolor\": \"white\", \"ticks\": \"\"}}, \"scene\": {\"xaxis\": {\"backgroundcolor\": \"#E5ECF6\", \"gridcolor\": \"white\", \"gridwidth\": 2, \"linecolor\": \"white\", \"showbackground\": true, \"ticks\": \"\", \"zerolinecolor\": \"white\"}, \"yaxis\": {\"backgroundcolor\": \"#E5ECF6\", \"gridcolor\": \"white\", \"gridwidth\": 2, \"linecolor\": \"white\", \"showbackground\": true, \"ticks\": \"\", \"zerolinecolor\": \"white\"}, \"zaxis\": {\"backgroundcolor\": \"#E5ECF6\", \"gridcolor\": \"white\", \"gridwidth\": 2, \"linecolor\": \"white\", \"showbackground\": true, \"ticks\": \"\", \"zerolinecolor\": \"white\"}}, \"shapedefaults\": {\"line\": {\"color\": \"#2a3f5f\"}}, \"ternary\": {\"aaxis\": {\"gridcolor\": \"white\", \"linecolor\": \"white\", \"ticks\": \"\"}, \"baxis\": {\"gridcolor\": \"white\", \"linecolor\": \"white\", \"ticks\": \"\"}, \"bgcolor\": \"#E5ECF6\", \"caxis\": {\"gridcolor\": \"white\", \"linecolor\": \"white\", \"ticks\": \"\"}}, \"title\": {\"x\": 0.05}, \"xaxis\": {\"automargin\": true, \"gridcolor\": \"white\", \"linecolor\": \"white\", \"ticks\": \"\", \"zerolinecolor\": \"white\", \"zerolinewidth\": 2}, \"yaxis\": {\"automargin\": true, \"gridcolor\": \"white\", \"linecolor\": \"white\", \"ticks\": \"\", \"zerolinecolor\": \"white\", \"zerolinewidth\": 2}}}, \"title\": {\"text\": \"Gantt Chart\"}, \"xaxis\": {\"rangeselector\": {\"buttons\": [{\"count\": 7, \"label\": \"1w\", \"step\": \"day\", \"stepmode\": \"backward\"}, {\"count\": 1, \"label\": \"1m\", \"step\": \"month\", \"stepmode\": \"backward\"}, {\"count\": 6, \"label\": \"6m\", \"step\": \"month\", \"stepmode\": \"backward\"}, {\"count\": 1, \"label\": \"YTD\", \"step\": \"year\", \"stepmode\": \"todate\"}, {\"count\": 1, \"label\": \"1y\", \"step\": \"year\", \"stepmode\": \"backward\"}, {\"step\": \"all\"}]}, \"showgrid\": false, \"type\": \"date\", \"zeroline\": false}, \"yaxis\": {\"autorange\": false, \"range\": [-1, 19], \"showgrid\": false, \"ticktext\": [\"Task 1.1\", \"Task 1.2\", \"Task 1.3\", \"Task 1.4\", \"Task 2.1\", \"Task 2.2\", \"Task 2.3\", \"Task 3.1\", \"Task 3.2\", \"Task 3.3\", \"Task 4.1\", \"Task 4.2\", \"Task 4.3\", \"Task 4.4\", \"Task 5.1\", \"Task 5.2\", \"Task 6.1\", \"Task 6.2\"], \"tickvals\": [0, 1, 2, 3, 4, 5, 6, 7, 8, 9, 10, 11, 12, 13, 14, 15, 16, 17], \"zeroline\": false}},\n",
              "                        {\"responsive\": true}\n",
              "                    ).then(function(){\n",
              "                            \n",
              "var gd = document.getElementById('f64a2b7d-e374-4db1-9133-8478a92e7720');\n",
              "var x = new MutationObserver(function (mutations, observer) {{\n",
              "        var display = window.getComputedStyle(gd).display;\n",
              "        if (!display || display === 'none') {{\n",
              "            console.log([gd, 'removed!']);\n",
              "            Plotly.purge(gd);\n",
              "            observer.disconnect();\n",
              "        }}\n",
              "}});\n",
              "\n",
              "// Listen for the removal of the full notebook cells\n",
              "var notebookContainer = gd.closest('#notebook-container');\n",
              "if (notebookContainer) {{\n",
              "    x.observe(notebookContainer, {childList: true});\n",
              "}}\n",
              "\n",
              "// Listen for the clearing of the current output cell\n",
              "var outputEl = gd.closest('.output');\n",
              "if (outputEl) {{\n",
              "    x.observe(outputEl, {childList: true});\n",
              "}}\n",
              "\n",
              "                        })\n",
              "                };\n",
              "                \n",
              "            </script>\n",
              "        </div>\n",
              "</body>\n",
              "</html>"
            ]
          },
          "metadata": {
            "tags": []
          }
        }
      ]
    },
    {
      "cell_type": "markdown",
      "metadata": {
        "id": "SulAMiEPqMwT",
        "colab_type": "text"
      },
      "source": [
        "The graph above depicts the Gantt Chart for the project. The project will start in January 2020 and will be finishing in December 2020. Some activities can be executed simultaneously. For instance, Task 1, Task 2, Task 3 and Task 4. Once Task 4 is finished, evaluate the performance of the algorithm proposed and elaborate conclusions and final benefit will be the next task necessary to perform. "
      ]
    },
    {
      "cell_type": "markdown",
      "metadata": {
        "id": "HslUKe_xuyaH",
        "colab_type": "text"
      },
      "source": [
        "## 5.5 Expected outcome"
      ]
    },
    {
      "cell_type": "markdown",
      "metadata": {
        "id": "D6D3kh3EvPNR",
        "colab_type": "text"
      },
      "source": [
        "**Project Value Statement**\n",
        "\n",
        "The project proposed will create synthetic medical images in prostate and breast cancer. Ideally, the project will collaborate in the health care system to classify breast and prostate cancer in early stages. The project will generate a solid algorithm that will help to predict human cancer in early stage, furthermore, will facilitate the classification of human cancer in benign or malign by a cancer specialist. With the algorithm proposed, further applications will be created to assist specialist and health care institutes in the early prediction of cancer, reducing the number of deaths that have been increasing exponential due to the low number of instrument or applications that help in the classification of cancer in its early stages.\n",
        "\n",
        "\n",
        "\n",
        "\n",
        "The algorithm will reduce the number of prostate deaths in male, that was represented by 26,730 in 2017, and breast cancer, that was represented by 40,610 in 2017 Rebecca, Kimberly & Ahmedin (2017, p. 10) by 40%, due to the algorithm will facilitate the prediction of cancer in early stages, therefore an early treatment and its cure (L, D & Ahmedin 2017). "
      ]
    }
  ]
}