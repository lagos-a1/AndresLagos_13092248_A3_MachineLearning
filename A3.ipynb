{
  "nbformat": 4,
  "nbformat_minor": 0,
  "metadata": {
    "colab": {
      "name": "A3.ipynb",
      "provenance": [],
      "toc_visible": true,
      "include_colab_link": true
    },
    "kernelspec": {
      "name": "python3",
      "display_name": "Python 3"
    }
  },
  "cells": [
    {
      "cell_type": "markdown",
      "metadata": {
        "id": "view-in-github",
        "colab_type": "text"
      },
      "source": [
        "<a href=\"https://colab.research.google.com/github/lagos-a1/AndresLagos_13092248_A3_MachineLearning/blob/master/A3.ipynb\" target=\"_parent\"><img src=\"https://colab.research.google.com/assets/colab-badge.svg\" alt=\"Open In Colab\"/></a>"
      ]
    },
    {
      "cell_type": "markdown",
      "metadata": {
        "id": "osBuvcuJIcGh",
        "colab_type": "text"
      },
      "source": [
        "# 1. Project Title\n",
        "\n",
        "Generating synthetic medical images for the prediction of prostate and breast cancer"
      ]
    },
    {
      "cell_type": "markdown",
      "metadata": {
        "id": "3Q8sakhSIuzO",
        "colab_type": "text"
      },
      "source": [
        "# 2. Initially background \n",
        "\n",
        "Artificial Intelligence (AI) techniques have been applied widely in different fields to solve problems with high performance in the prediction and classification of different task. For instance, the classification of medical images in the presence of different types of cancer (i.e. skin cancer, prostate and breast cancer) have been implemented to generate an early diagnosis and reduce risk of future complications. \n",
        "\n",
        "\n",
        "\n",
        "Early diagnostic of health problems in human beings can be addressed with the implementation of IA techniques in the classification of medical images. From the early days of the analysis of medical images, different methods and techniques in Machine Learning (ML) and IA have been a crucial key element for the decision of complex decision-making problems in health domain (Kazeminia et al. 2018). However, “The greatest challenge in the medical images domain” Frid-Adar et al. (2018, p. 1) is how to deal with the fewer number of sample images in some health pathologies to create a robust algorithm that helps to classify the presence of an anomaly in the cell. Therefore, the implementation of AI techniques such as Generative Adversarial Network (GAN) and Convolutional Neural Network (CNN) will provide AI technologies in the development of new techniques to improve the quality of human health. \n",
        "\n",
        "\n",
        "\n",
        "CNN and GAN are algorithms that have been widely implemented, especially in the health domain. CNN techniques help to classify medical images in benign or malign accordingly with a set of previous images were the classification has been done. However, the implementation of CNN required a big number of images to be evaluated, and in some human pathologies, this task can be complicated. Therefore, GAN can assist in generating synthetic medical images, where is difficult the presence of a large number of medical images and combining CNN will elaborate an accurate prediction were a health problem is present. \n"
      ]
    },
    {
      "cell_type": "markdown",
      "metadata": {
        "id": "QS4ilnZiM6wR",
        "colab_type": "text"
      },
      "source": [
        "# 3. Aims\n",
        "\n",
        "The aim of this project is to create a sophisticated method of generating synthetic medical images that will help to predict the presence of health problem."
      ]
    },
    {
      "cell_type": "markdown",
      "metadata": {
        "id": "Kf5EEQYCNHox",
        "colab_type": "text"
      },
      "source": [
        "## 3.1 Objectives\n",
        "\n",
        "**i)** Collect a data set with medical imaging of prostate and breast cancer. \n",
        "\n",
        "**ii)** Generate synthetic medical images with a deep learning technique “Generative Adversarial Networks (GANs)”. \n",
        "\n",
        "**iii)** Applied and Improve the performance of Convolutional Neural Network (CNN) in the prediction of the presence of cancer. \n",
        "\n",
        "**iv)** Demonstrate the performance of the method elaborated in the real prediction of prostate and breast cancer. \n"
      ]
    },
    {
      "cell_type": "markdown",
      "metadata": {
        "id": "ErVHFQJDOOe1",
        "colab_type": "text"
      },
      "source": [
        "# 4. Background \n",
        "\n",
        "Generative Adversarial Networks (GAN) has been implemented recently in medical images analysis due to it simplifies the complicated work of the synthesis of realistic-looking images at an extraordinary level (Kazeminia et al. 2018). . The main reasons behind its superiority are the capacity to create samples with high performance and quality. For instance, different articles have been implementing GAN to produce synthetic images in medical images.\n",
        "\n",
        "\n",
        "In their article, Frid-Adar et al. (2018) created a large number of synthetic images of the liver lesion to enhance the classification of CNN algorithm. The implementation of GANs algorithm allowed create a large number of synthetic images and increase the performance of the algorithm in classifying this common human lesion in 5%, giving, as a result, a 94% of accuracy in the classification of the model. As a second example, Han et al. (2018) generate synthetic images of multi-sequence brain Magnetic Resonance (MR). Their novel realistic approach generate images that have been evaluated by experts physicians as a realist brain image. With their synthetic brain images created, further studies can be evaluated to find different human pathologies that are affecting human health.\n",
        "\n",
        "\n",
        "Approaches explained above will be further extended to create a solid algorithm to generate synthetic breast and prostate cancer images to enhance the performance of CNN in the classification of the two most common cancer affecting female and male.\n"
      ]
    },
    {
      "cell_type": "markdown",
      "metadata": {
        "id": "KB-JfuCpS6-O",
        "colab_type": "text"
      },
      "source": [
        "# 5. Research project"
      ]
    },
    {
      "cell_type": "markdown",
      "metadata": {
        "id": "C3lbyn-mTdbB",
        "colab_type": "text"
      },
      "source": [
        "## 5.1 Significance\n",
        "\n",
        "Cancer is a major public health problem worldwide and is the second factor of death in the United States (Rebecca, Kimberly & Ahmedin 2017). Human cancer statistics depict an exponential increase of new cancer cases (in 2017, 1,688,780 presented in the United States) and cancer deaths ( in 2017, 600,920 presented in the United States) Rebecca, Kimberly & Ahmedin (2017, p. 7). Due to different factors such as the ageing of the population, climate change effects and a high increasing of stabilised risk factors (smoking, changing in reproductive behaviours and overweight).\n",
        "Early diagnosis of cancer can reduce drastically the risk of death. For instance, breast cancer recognized to be one of the most common cancer worldwide, early diagnosis has a high significance in human health, reducing high-risk of death or further complications. Additionally, prostate cancer with 252,710 (L, D & Ahmedin (2017, p. 10)) new male cases, estimated a common disease affecting males can be treated when is detected in the early stages of the disease. Many more examples can be highlighted to demonstrate the crucial stage where human cancer is detected (Wardle et al. 2015). Therefore, using AI technologies, especially CNN and GAN will bring a large number of benefit in human health and reducing the risk of death. \n",
        "\n",
        "The different health care centre will be implementing the proposed algorithm and will facilitate the diagnosis of breast and prostate cancer in early stages. With the proposed algorithm the risk of death in a new patient with the illness will be reduced by 40%."
      ]
    },
    {
      "cell_type": "markdown",
      "metadata": {
        "id": "QItCitWuTpcj",
        "colab_type": "text"
      },
      "source": [
        "## 5.2 Inovation \n",
        "\n",
        "This project evaluates different algorithms to create the most robust algorithm in charge of enhancing the performance in the classification of the two most common cancer affecting males and females worldwide. Additionally, its application will be implemented in health care centres to classify images in real cases of patient images. The implementation will be executed once the algorithm has been proved and its performance has been evaluated by cancer specialists. The algorithm will be implemented in a user-friendly interface were specialist will obtain a second diagnosis of real cancer images. "
      ]
    },
    {
      "cell_type": "markdown",
      "metadata": {
        "id": "tr6f42-STuEO",
        "colab_type": "text"
      },
      "source": [
        "## 5.3 Task list\n",
        "\n",
        "The project scope is presented below: \n",
        "\n",
        "•\tPrepare training data: Organize a large number of samples with prostate and breast cancer. Images must be labelled\n",
        "\n",
        "•\tImplement Generative Adversarial Network (GAN) and generate synthetic medical images\n",
        "\n",
        "•\tImplement a Convolutional Neural Network (CNN) to train the training data set\n",
        "\n",
        "•\tPrepare test data: Organize a large number of samples to implement CNN in the prediction of prostate and breast cancer\n",
        "\n",
        "•\tEvaluate the performance of the algorithm\n",
        "\n",
        "•\tElaborate a conclusion and the benefit of the project \n",
        "\n"
      ]
    },
    {
      "cell_type": "markdown",
      "metadata": {
        "id": "PZ_YhvJJVI2M",
        "colab_type": "text"
      },
      "source": [
        "\n",
        "**1. Prepare training data Task name Deliverable**\n",
        "\n",
        "\n",
        "\n",
        "1.1 Collect a large number of prostate and breast cancer samples\n",
        "\n",
        "\n",
        "1.2 Data exploration of the training data set\n",
        "\n",
        "1.3 Data Pre-processing\n",
        "\n",
        "1.4 Feature selection"
      ]
    },
    {
      "cell_type": "markdown",
      "metadata": {
        "id": "nkOJ9bq0Og_f",
        "colab_type": "text"
      },
      "source": [
        "**2. Implement Generative Adversarial Network (GAN)**\n",
        "\n",
        "2.1 Build GAN in python language programming \n",
        "\n",
        "2.2 Generate synthetic images \t\n",
        "\n",
        "2.3 Create a big data set of images with synthetic images \t\n",
        "\n"
      ]
    },
    {
      "cell_type": "markdown",
      "metadata": {
        "id": "Tgv3RBDUVp-G",
        "colab_type": "text"
      },
      "source": [
        "**3. Implement Convolutional Neural Network (CNN)** \n",
        "\n",
        "3.1 Build CNN in python language programming\t\n",
        "\n",
        "3.2 Train the human cancer image data set with CNN\n",
        "\n",
        "3.3 Classify images in malignant and benignant of the human cancer images\t\n"
      ]
    },
    {
      "cell_type": "markdown",
      "metadata": {
        "id": "G0S_2wthVwEG",
        "colab_type": "text"
      },
      "source": [
        "**4. Prepare test data**\n",
        "\n",
        "4.1 Collect a large number of prostate and breast cancer\t\n",
        "\n",
        "4.2 Data exploration of the test data set\t\n",
        "\n",
        "4.3 Data Pre-processing\t\n",
        "\n",
        "4.4 Feature selection\t\n"
      ]
    },
    {
      "cell_type": "markdown",
      "metadata": {
        "id": "7dLYNsn6V8eb",
        "colab_type": "text"
      },
      "source": [
        "**5. Evaluate the performance of the algorithm** \n",
        "\n",
        "5.1 Evaluate error rate and accuracy of the model implemented\t\n",
        "\n",
        "5.2 Visualize the performance of the algorithm with AUC (Area Under the Curve) and ROC (Receiver Operating Characteristics) \t\n"
      ]
    },
    {
      "cell_type": "markdown",
      "metadata": {
        "id": "sEt6_BINWD2N",
        "colab_type": "text"
      },
      "source": [
        "**6. Elaborate a conclusion and the benefit of the project**\n",
        "\n",
        "\n",
        "6.1 Evaluate the final benefit of the project \n",
        "\n",
        "6.2 Create further application of the project in the classification of human cancer \t\n"
      ]
    },
    {
      "cell_type": "markdown",
      "metadata": {
        "id": "ylgbcuqBWK5d",
        "colab_type": "text"
      },
      "source": [
        "## 5.4 Gant Chart \n",
        "\n",
        "The proposed project must be completed within one year. Gantt chart is presented as follow:"
      ]
    },
    {
      "cell_type": "code",
      "metadata": {
        "id": "uX9ZSuS0XpKk",
        "colab_type": "code",
        "colab": {
          "base_uri": "https://localhost:8080/",
          "height": 617
        },
        "outputId": "29afa3ab-b240-480a-a337-13798a1634c1"
      },
      "source": [
        "import plotly.figure_factory as ff\n",
        "\n",
        "df = [dict(Task=\"Task 1.1\", Start='2020-01-01', Finish='2020-03-01', Resource='Task1'),\n",
        "      dict(Task=\"Task 1.2\", Start='2020-03-01', Finish='2020-04-01', Resource='Task1'),\n",
        "      dict(Task=\"Task 1.3\", Start='2020-04-01', Finish='2020-04-15', Resource='Task1'),\n",
        "      dict(Task=\"Task 1.4\", Start='2020-04-15', Finish='2020-04-26', Resource='Task1'),\n",
        "      dict(Task=\"Task 2.1\", Start='2020-01-01', Finish='2020-02-15', Resource='Task2'),\n",
        "      dict(Task=\"Task 2.2\", Start='2020-04-26', Finish='2020-05-30', Resource='Task2'),\n",
        "      dict(Task=\"Task 2.3\", Start='2020-05-30', Finish='2020-06-20', Resource='Task2'),\n",
        "      dict(Task=\"Task 3.1\", Start='2020-01-01', Finish='2020-02-15', Resource='Task3'),\n",
        "      dict(Task=\"Task 3.2\", Start='2020-06-20', Finish='2020-07-30', Resource='Task3'),\n",
        "      dict(Task=\"Task 3.3\", Start='2020-07-30', Finish='2020-08-03', Resource='Task3'),\n",
        "      dict(Task=\"Task 4.1\", Start='2020-01-01', Finish='2020-03-01', Resource='Task4'),\n",
        "      dict(Task=\"Task 4.2\", Start='2020-03-01', Finish='2020-04-01', Resource='Task4'),\n",
        "      dict(Task=\"Task 4.3\", Start='2020-04-01', Finish='2020-04-15', Resource='Task4'),\n",
        "      dict(Task=\"Task 4.4\", Start='2020-04-15', Finish='2020-04-26', Resource='Task4'),\n",
        "      dict(Task=\"Task 5.1\", Start='2020-08-03', Finish='2020-09-03', Resource='Task5'),\n",
        "      dict(Task=\"Task 5.2\", Start='2020-09-03', Finish='2020-09-20', Resource='Task5'),\n",
        "      dict(Task=\"Task 6.1\", Start='2020-09-20', Finish='2020-10-30', Resource='Task6'),\n",
        "      dict(Task=\"Task 6.2\", Start='2020-10-30', Finish='2020-12-30', Resource='Task6'),\n",
        "     \n",
        "     ]\n",
        "\n",
        "colors = dict(Task1 ='rgb(220, 0, 0)', Task2='rgb(170, 14, 200)', Task3=(1, 0.9, 0.16), Task4 ='rgb(128, 128, 128)', Task5 ='rgb(0, 128, 128)', Task6 ='rgb(0, 255, 0)')\n",
        "\n",
        "fig = ff.create_gantt(df, colors=colors, index_col='Resource', show_colorbar=True)\n",
        "fig.show()"
      ],
      "execution_count": 8,
      "outputs": [
        {
          "output_type": "display_data",
          "data": {
            "text/html": [
              "<html>\n",
              "<head><meta charset=\"utf-8\" /></head>\n",
              "<body>\n",
              "    <div>\n",
              "            <script src=\"https://cdnjs.cloudflare.com/ajax/libs/mathjax/2.7.5/MathJax.js?config=TeX-AMS-MML_SVG\"></script><script type=\"text/javascript\">if (window.MathJax) {MathJax.Hub.Config({SVG: {font: \"STIX-Web\"}});}</script>\n",
              "                <script type=\"text/javascript\">window.PlotlyConfig = {MathJaxConfig: 'local'};</script>\n",
              "        <script src=\"https://cdn.plot.ly/plotly-latest.min.js\"></script>    \n",
              "            <div id=\"f64a2b7d-e374-4db1-9133-8478a92e7720\" class=\"plotly-graph-div\" style=\"height:600px; width:100%;\"></div>\n",
              "            <script type=\"text/javascript\">\n",
              "                \n",
              "                    window.PLOTLYENV=window.PLOTLYENV || {};\n",
              "                    \n",
              "                if (document.getElementById(\"f64a2b7d-e374-4db1-9133-8478a92e7720\")) {\n",
              "                    Plotly.newPlot(\n",
              "                        'f64a2b7d-e374-4db1-9133-8478a92e7720',\n",
              "                        [{\"fill\": \"toself\", \"fillcolor\": \"rgb(0, 128, 128)\", \"hoverinfo\": \"name\", \"legendgroup\": \"rgb(0, 128, 128)\", \"mode\": \"none\", \"name\": \"Task5\", \"type\": \"scatter\", \"x\": [\"2020-08-03\", \"2020-09-03\", \"2020-09-03\", \"2020-08-03\", \"2020-08-03\", \"2020-09-03\", \"2020-09-20\", \"2020-09-20\", \"2020-09-03\"], \"y\": [13.8, 13.8, 14.2, 14.2, null, 14.8, 14.8, 15.2, 15.2]}, {\"fill\": \"toself\", \"fillcolor\": \"rgb(0, 255, 0)\", \"hoverinfo\": \"name\", \"legendgroup\": \"rgb(0, 255, 0)\", \"mode\": \"none\", \"name\": \"Task6\", \"type\": \"scatter\", \"x\": [\"2020-09-20\", \"2020-10-30\", \"2020-10-30\", \"2020-09-20\", \"2020-09-20\", \"2020-10-30\", \"2020-12-30\", \"2020-12-30\", \"2020-10-30\"], \"y\": [15.8, 15.8, 16.2, 16.2, null, 16.8, 16.8, 17.2, 17.2]}, {\"fill\": \"toself\", \"fillcolor\": \"rgb(128, 128, 128)\", \"hoverinfo\": \"name\", \"legendgroup\": \"rgb(128, 128, 128)\", \"mode\": \"none\", \"name\": \"Task4\", \"type\": \"scatter\", \"x\": [\"2020-01-01\", \"2020-03-01\", \"2020-03-01\", \"2020-01-01\", \"2020-01-01\", \"2020-03-01\", \"2020-04-01\", \"2020-04-01\", \"2020-03-01\", \"2020-03-01\", \"2020-04-01\", \"2020-04-15\", \"2020-04-15\", \"2020-04-01\", \"2020-04-01\", \"2020-04-15\", \"2020-04-26\", \"2020-04-26\", \"2020-04-15\"], \"y\": [9.8, 9.8, 10.2, 10.2, null, 10.8, 10.8, 11.2, 11.2, null, 11.8, 11.8, 12.2, 12.2, null, 12.8, 12.8, 13.2, 13.2]}, {\"fill\": \"toself\", \"fillcolor\": \"rgb(170, 14, 200)\", \"hoverinfo\": \"name\", \"legendgroup\": \"rgb(170, 14, 200)\", \"mode\": \"none\", \"name\": \"Task2\", \"type\": \"scatter\", \"x\": [\"2020-01-01\", \"2020-02-15\", \"2020-02-15\", \"2020-01-01\", \"2020-01-01\", \"2020-04-26\", \"2020-05-30\", \"2020-05-30\", \"2020-04-26\", \"2020-04-26\", \"2020-05-30\", \"2020-06-20\", \"2020-06-20\", \"2020-05-30\"], \"y\": [3.8, 3.8, 4.2, 4.2, null, 4.8, 4.8, 5.2, 5.2, null, 5.8, 5.8, 6.2, 6.2]}, {\"fill\": \"toself\", \"fillcolor\": \"rgb(220, 0, 0)\", \"hoverinfo\": \"name\", \"legendgroup\": \"rgb(220, 0, 0)\", \"mode\": \"none\", \"name\": \"Task1\", \"type\": \"scatter\", \"x\": [\"2020-01-01\", \"2020-03-01\", \"2020-03-01\", \"2020-01-01\", \"2020-01-01\", \"2020-03-01\", \"2020-04-01\", \"2020-04-01\", \"2020-03-01\", \"2020-03-01\", \"2020-04-01\", \"2020-04-15\", \"2020-04-15\", \"2020-04-01\", \"2020-04-01\", \"2020-04-15\", \"2020-04-26\", \"2020-04-26\", \"2020-04-15\"], \"y\": [-0.2, -0.2, 0.2, 0.2, null, 0.8, 0.8, 1.2, 1.2, null, 1.8, 1.8, 2.2, 2.2, null, 2.8, 2.8, 3.2, 3.2]}, {\"fill\": \"toself\", \"fillcolor\": \"rgb(255, 230, 41)\", \"hoverinfo\": \"name\", \"legendgroup\": \"rgb(255, 230, 41)\", \"mode\": \"none\", \"name\": \"Task3\", \"type\": \"scatter\", \"x\": [\"2020-01-01\", \"2020-02-15\", \"2020-02-15\", \"2020-01-01\", \"2020-01-01\", \"2020-06-20\", \"2020-07-30\", \"2020-07-30\", \"2020-06-20\", \"2020-06-20\", \"2020-07-30\", \"2020-08-03\", \"2020-08-03\", \"2020-07-30\"], \"y\": [6.8, 6.8, 7.2, 7.2, null, 7.8, 7.8, 8.2, 8.2, null, 8.8, 8.8, 9.2, 9.2]}, {\"legendgroup\": \"rgb(0, 128, 128)\", \"marker\": {\"color\": \"rgb(0, 128, 128)\", \"opacity\": 0, \"size\": 1}, \"mode\": \"markers\", \"name\": \"\", \"showlegend\": false, \"text\": [null, null, null, null], \"type\": \"scatter\", \"x\": [\"2020-08-03\", \"2020-09-03\", \"2020-09-03\", \"2020-09-20\"], \"y\": [14, 14, 15, 15]}, {\"legendgroup\": \"rgb(0, 255, 0)\", \"marker\": {\"color\": \"rgb(0, 255, 0)\", \"opacity\": 0, \"size\": 1}, \"mode\": \"markers\", \"name\": \"\", \"showlegend\": false, \"text\": [null, null, null, null], \"type\": \"scatter\", \"x\": [\"2020-09-20\", \"2020-10-30\", \"2020-10-30\", \"2020-12-30\"], \"y\": [16, 16, 17, 17]}, {\"legendgroup\": \"rgb(128, 128, 128)\", \"marker\": {\"color\": \"rgb(128, 128, 128)\", \"opacity\": 0, \"size\": 1}, \"mode\": \"markers\", \"name\": \"\", \"showlegend\": false, \"text\": [null, null, null, null, null, null, null, null], \"type\": \"scatter\", \"x\": [\"2020-01-01\", \"2020-03-01\", \"2020-03-01\", \"2020-04-01\", \"2020-04-01\", \"2020-04-15\", \"2020-04-15\", \"2020-04-26\"], \"y\": [10, 10, 11, 11, 12, 12, 13, 13]}, {\"legendgroup\": \"rgb(170, 14, 200)\", \"marker\": {\"color\": \"rgb(170, 14, 200)\", \"opacity\": 0, \"size\": 1}, \"mode\": \"markers\", \"name\": \"\", \"showlegend\": false, \"text\": [null, null, null, null, null, null], \"type\": \"scatter\", \"x\": [\"2020-01-01\", \"2020-02-15\", \"2020-04-26\", \"2020-05-30\", \"2020-05-30\", \"2020-06-20\"], \"y\": [4, 4, 5, 5, 6, 6]}, {\"legendgroup\": \"rgb(220, 0, 0)\", \"marker\": {\"color\": \"rgb(220, 0, 0)\", \"opacity\": 0, \"size\": 1}, \"mode\": \"markers\", \"name\": \"\", \"showlegend\": false, \"text\": [null, null, null, null, null, null, null, null], \"type\": \"scatter\", \"x\": [\"2020-01-01\", \"2020-03-01\", \"2020-03-01\", \"2020-04-01\", \"2020-04-01\", \"2020-04-15\", \"2020-04-15\", \"2020-04-26\"], \"y\": [0, 0, 1, 1, 2, 2, 3, 3]}, {\"legendgroup\": \"rgb(255, 230, 41)\", \"marker\": {\"color\": \"rgb(255, 230, 41)\", \"opacity\": 0, \"size\": 1}, \"mode\": \"markers\", \"name\": \"\", \"showlegend\": false, \"text\": [null, null, null, null, null, null], \"type\": \"scatter\", \"x\": [\"2020-01-01\", \"2020-02-15\", \"2020-06-20\", \"2020-07-30\", \"2020-07-30\", \"2020-08-03\"], \"y\": [7, 7, 8, 8, 9, 9]}],\n",
              "                        {\"height\": 600, \"hovermode\": \"closest\", \"showlegend\": true, \"template\": {\"data\": {\"bar\": [{\"error_x\": {\"color\": \"#2a3f5f\"}, \"error_y\": {\"color\": \"#2a3f5f\"}, \"marker\": {\"line\": {\"color\": \"#E5ECF6\", \"width\": 0.5}}, \"type\": \"bar\"}], \"barpolar\": [{\"marker\": {\"line\": {\"color\": \"#E5ECF6\", \"width\": 0.5}}, \"type\": \"barpolar\"}], \"carpet\": [{\"aaxis\": {\"endlinecolor\": \"#2a3f5f\", \"gridcolor\": \"white\", \"linecolor\": \"white\", \"minorgridcolor\": \"white\", \"startlinecolor\": \"#2a3f5f\"}, \"baxis\": {\"endlinecolor\": \"#2a3f5f\", \"gridcolor\": \"white\", \"linecolor\": \"white\", \"minorgridcolor\": \"white\", \"startlinecolor\": \"#2a3f5f\"}, \"type\": \"carpet\"}], \"choropleth\": [{\"colorbar\": {\"outlinewidth\": 0, \"ticks\": \"\"}, \"type\": \"choropleth\"}], \"contour\": [{\"colorbar\": {\"outlinewidth\": 0, \"ticks\": \"\"}, \"colorscale\": [[0.0, \"#0d0887\"], [0.1111111111111111, \"#46039f\"], [0.2222222222222222, \"#7201a8\"], [0.3333333333333333, \"#9c179e\"], [0.4444444444444444, \"#bd3786\"], [0.5555555555555556, \"#d8576b\"], [0.6666666666666666, \"#ed7953\"], [0.7777777777777778, \"#fb9f3a\"], [0.8888888888888888, \"#fdca26\"], [1.0, \"#f0f921\"]], \"type\": \"contour\"}], \"contourcarpet\": [{\"colorbar\": {\"outlinewidth\": 0, \"ticks\": \"\"}, \"type\": \"contourcarpet\"}], \"heatmap\": [{\"colorbar\": {\"outlinewidth\": 0, \"ticks\": \"\"}, \"colorscale\": [[0.0, \"#0d0887\"], [0.1111111111111111, \"#46039f\"], [0.2222222222222222, \"#7201a8\"], [0.3333333333333333, \"#9c179e\"], [0.4444444444444444, \"#bd3786\"], [0.5555555555555556, \"#d8576b\"], [0.6666666666666666, \"#ed7953\"], [0.7777777777777778, \"#fb9f3a\"], [0.8888888888888888, \"#fdca26\"], [1.0, \"#f0f921\"]], \"type\": \"heatmap\"}], \"heatmapgl\": [{\"colorbar\": {\"outlinewidth\": 0, \"ticks\": \"\"}, \"colorscale\": [[0.0, \"#0d0887\"], [0.1111111111111111, \"#46039f\"], [0.2222222222222222, \"#7201a8\"], [0.3333333333333333, \"#9c179e\"], [0.4444444444444444, \"#bd3786\"], [0.5555555555555556, \"#d8576b\"], [0.6666666666666666, \"#ed7953\"], [0.7777777777777778, \"#fb9f3a\"], [0.8888888888888888, \"#fdca26\"], [1.0, \"#f0f921\"]], \"type\": \"heatmapgl\"}], \"histogram\": [{\"marker\": {\"colorbar\": {\"outlinewidth\": 0, \"ticks\": \"\"}}, \"type\": \"histogram\"}], \"histogram2d\": [{\"colorbar\": {\"outlinewidth\": 0, \"ticks\": \"\"}, \"colorscale\": [[0.0, \"#0d0887\"], [0.1111111111111111, \"#46039f\"], [0.2222222222222222, \"#7201a8\"], [0.3333333333333333, \"#9c179e\"], [0.4444444444444444, \"#bd3786\"], [0.5555555555555556, \"#d8576b\"], [0.6666666666666666, \"#ed7953\"], [0.7777777777777778, \"#fb9f3a\"], [0.8888888888888888, \"#fdca26\"], [1.0, \"#f0f921\"]], \"type\": \"histogram2d\"}], \"histogram2dcontour\": [{\"colorbar\": {\"outlinewidth\": 0, \"ticks\": \"\"}, \"colorscale\": [[0.0, \"#0d0887\"], [0.1111111111111111, \"#46039f\"], [0.2222222222222222, \"#7201a8\"], [0.3333333333333333, \"#9c179e\"], [0.4444444444444444, \"#bd3786\"], [0.5555555555555556, \"#d8576b\"], [0.6666666666666666, \"#ed7953\"], [0.7777777777777778, \"#fb9f3a\"], [0.8888888888888888, \"#fdca26\"], [1.0, \"#f0f921\"]], \"type\": \"histogram2dcontour\"}], \"mesh3d\": [{\"colorbar\": {\"outlinewidth\": 0, \"ticks\": \"\"}, \"type\": \"mesh3d\"}], \"parcoords\": [{\"line\": {\"colorbar\": {\"outlinewidth\": 0, \"ticks\": \"\"}}, \"type\": \"parcoords\"}], \"scatter\": [{\"marker\": {\"colorbar\": {\"outlinewidth\": 0, \"ticks\": \"\"}}, \"type\": \"scatter\"}], \"scatter3d\": [{\"line\": {\"colorbar\": {\"outlinewidth\": 0, \"ticks\": \"\"}}, \"marker\": {\"colorbar\": {\"outlinewidth\": 0, \"ticks\": \"\"}}, \"type\": \"scatter3d\"}], \"scattercarpet\": [{\"marker\": {\"colorbar\": {\"outlinewidth\": 0, \"ticks\": \"\"}}, \"type\": \"scattercarpet\"}], \"scattergeo\": [{\"marker\": {\"colorbar\": {\"outlinewidth\": 0, \"ticks\": \"\"}}, \"type\": \"scattergeo\"}], \"scattergl\": [{\"marker\": {\"colorbar\": {\"outlinewidth\": 0, \"ticks\": \"\"}}, \"type\": \"scattergl\"}], \"scattermapbox\": [{\"marker\": {\"colorbar\": {\"outlinewidth\": 0, \"ticks\": \"\"}}, \"type\": \"scattermapbox\"}], \"scatterpolar\": [{\"marker\": {\"colorbar\": {\"outlinewidth\": 0, \"ticks\": \"\"}}, \"type\": \"scatterpolar\"}], \"scatterpolargl\": [{\"marker\": {\"colorbar\": {\"outlinewidth\": 0, \"ticks\": \"\"}}, \"type\": \"scatterpolargl\"}], \"scatterternary\": [{\"marker\": {\"colorbar\": {\"outlinewidth\": 0, \"ticks\": \"\"}}, \"type\": \"scatterternary\"}], \"surface\": [{\"colorbar\": {\"outlinewidth\": 0, \"ticks\": \"\"}, \"colorscale\": [[0.0, \"#0d0887\"], [0.1111111111111111, \"#46039f\"], [0.2222222222222222, \"#7201a8\"], [0.3333333333333333, \"#9c179e\"], [0.4444444444444444, \"#bd3786\"], [0.5555555555555556, \"#d8576b\"], [0.6666666666666666, \"#ed7953\"], [0.7777777777777778, \"#fb9f3a\"], [0.8888888888888888, \"#fdca26\"], [1.0, \"#f0f921\"]], \"type\": \"surface\"}], \"table\": [{\"cells\": {\"fill\": {\"color\": \"#EBF0F8\"}, \"line\": {\"color\": \"white\"}}, \"header\": {\"fill\": {\"color\": \"#C8D4E3\"}, \"line\": {\"color\": \"white\"}}, \"type\": \"table\"}]}, \"layout\": {\"annotationdefaults\": {\"arrowcolor\": \"#2a3f5f\", \"arrowhead\": 0, \"arrowwidth\": 1}, \"colorscale\": {\"diverging\": [[0, \"#8e0152\"], [0.1, \"#c51b7d\"], [0.2, \"#de77ae\"], [0.3, \"#f1b6da\"], [0.4, \"#fde0ef\"], [0.5, \"#f7f7f7\"], [0.6, \"#e6f5d0\"], [0.7, \"#b8e186\"], [0.8, \"#7fbc41\"], [0.9, \"#4d9221\"], [1, \"#276419\"]], \"sequential\": [[0.0, \"#0d0887\"], [0.1111111111111111, \"#46039f\"], [0.2222222222222222, \"#7201a8\"], [0.3333333333333333, \"#9c179e\"], [0.4444444444444444, \"#bd3786\"], [0.5555555555555556, \"#d8576b\"], [0.6666666666666666, \"#ed7953\"], [0.7777777777777778, \"#fb9f3a\"], [0.8888888888888888, \"#fdca26\"], [1.0, \"#f0f921\"]], \"sequentialminus\": [[0.0, \"#0d0887\"], [0.1111111111111111, \"#46039f\"], [0.2222222222222222, \"#7201a8\"], [0.3333333333333333, \"#9c179e\"], [0.4444444444444444, \"#bd3786\"], [0.5555555555555556, \"#d8576b\"], [0.6666666666666666, \"#ed7953\"], [0.7777777777777778, \"#fb9f3a\"], [0.8888888888888888, \"#fdca26\"], [1.0, \"#f0f921\"]]}, \"colorway\": [\"#636efa\", \"#EF553B\", \"#00cc96\", \"#ab63fa\", \"#FFA15A\", \"#19d3f3\", \"#FF6692\", \"#B6E880\", \"#FF97FF\", \"#FECB52\"], \"font\": {\"color\": \"#2a3f5f\"}, \"geo\": {\"bgcolor\": \"white\", \"lakecolor\": \"white\", \"landcolor\": \"#E5ECF6\", \"showlakes\": true, \"showland\": true, \"subunitcolor\": \"white\"}, \"hoverlabel\": {\"align\": \"left\"}, \"hovermode\": \"closest\", \"mapbox\": {\"style\": \"light\"}, \"paper_bgcolor\": \"white\", \"plot_bgcolor\": \"#E5ECF6\", \"polar\": {\"angularaxis\": {\"gridcolor\": \"white\", \"linecolor\": \"white\", \"ticks\": \"\"}, \"bgcolor\": \"#E5ECF6\", \"radialaxis\": {\"gridcolor\": \"white\", \"linecolor\": \"white\", \"ticks\": \"\"}}, \"scene\": {\"xaxis\": {\"backgroundcolor\": \"#E5ECF6\", \"gridcolor\": \"white\", \"gridwidth\": 2, \"linecolor\": \"white\", \"showbackground\": true, \"ticks\": \"\", \"zerolinecolor\": \"white\"}, \"yaxis\": {\"backgroundcolor\": \"#E5ECF6\", \"gridcolor\": \"white\", \"gridwidth\": 2, \"linecolor\": \"white\", \"showbackground\": true, \"ticks\": \"\", \"zerolinecolor\": \"white\"}, \"zaxis\": {\"backgroundcolor\": \"#E5ECF6\", \"gridcolor\": \"white\", \"gridwidth\": 2, \"linecolor\": \"white\", \"showbackground\": true, \"ticks\": \"\", \"zerolinecolor\": \"white\"}}, \"shapedefaults\": {\"line\": {\"color\": \"#2a3f5f\"}}, \"ternary\": {\"aaxis\": {\"gridcolor\": \"white\", \"linecolor\": \"white\", \"ticks\": \"\"}, \"baxis\": {\"gridcolor\": \"white\", \"linecolor\": \"white\", \"ticks\": \"\"}, \"bgcolor\": \"#E5ECF6\", \"caxis\": {\"gridcolor\": \"white\", \"linecolor\": \"white\", \"ticks\": \"\"}}, \"title\": {\"x\": 0.05}, \"xaxis\": {\"automargin\": true, \"gridcolor\": \"white\", \"linecolor\": \"white\", \"ticks\": \"\", \"zerolinecolor\": \"white\", \"zerolinewidth\": 2}, \"yaxis\": {\"automargin\": true, \"gridcolor\": \"white\", \"linecolor\": \"white\", \"ticks\": \"\", \"zerolinecolor\": \"white\", \"zerolinewidth\": 2}}}, \"title\": {\"text\": \"Gantt Chart\"}, \"xaxis\": {\"rangeselector\": {\"buttons\": [{\"count\": 7, \"label\": \"1w\", \"step\": \"day\", \"stepmode\": \"backward\"}, {\"count\": 1, \"label\": \"1m\", \"step\": \"month\", \"stepmode\": \"backward\"}, {\"count\": 6, \"label\": \"6m\", \"step\": \"month\", \"stepmode\": \"backward\"}, {\"count\": 1, \"label\": \"YTD\", \"step\": \"year\", \"stepmode\": \"todate\"}, {\"count\": 1, \"label\": \"1y\", \"step\": \"year\", \"stepmode\": \"backward\"}, {\"step\": \"all\"}]}, \"showgrid\": false, \"type\": \"date\", \"zeroline\": false}, \"yaxis\": {\"autorange\": false, \"range\": [-1, 19], \"showgrid\": false, \"ticktext\": [\"Task 1.1\", \"Task 1.2\", \"Task 1.3\", \"Task 1.4\", \"Task 2.1\", \"Task 2.2\", \"Task 2.3\", \"Task 3.1\", \"Task 3.2\", \"Task 3.3\", \"Task 4.1\", \"Task 4.2\", \"Task 4.3\", \"Task 4.4\", \"Task 5.1\", \"Task 5.2\", \"Task 6.1\", \"Task 6.2\"], \"tickvals\": [0, 1, 2, 3, 4, 5, 6, 7, 8, 9, 10, 11, 12, 13, 14, 15, 16, 17], \"zeroline\": false}},\n",
              "                        {\"responsive\": true}\n",
              "                    ).then(function(){\n",
              "                            \n",
              "var gd = document.getElementById('f64a2b7d-e374-4db1-9133-8478a92e7720');\n",
              "var x = new MutationObserver(function (mutations, observer) {{\n",
              "        var display = window.getComputedStyle(gd).display;\n",
              "        if (!display || display === 'none') {{\n",
              "            console.log([gd, 'removed!']);\n",
              "            Plotly.purge(gd);\n",
              "            observer.disconnect();\n",
              "        }}\n",
              "}});\n",
              "\n",
              "// Listen for the removal of the full notebook cells\n",
              "var notebookContainer = gd.closest('#notebook-container');\n",
              "if (notebookContainer) {{\n",
              "    x.observe(notebookContainer, {childList: true});\n",
              "}}\n",
              "\n",
              "// Listen for the clearing of the current output cell\n",
              "var outputEl = gd.closest('.output');\n",
              "if (outputEl) {{\n",
              "    x.observe(outputEl, {childList: true});\n",
              "}}\n",
              "\n",
              "                        })\n",
              "                };\n",
              "                \n",
              "            </script>\n",
              "        </div>\n",
              "</body>\n",
              "</html>"
            ]
          },
          "metadata": {
            "tags": []
          }
        }
      ]
    },
    {
      "cell_type": "markdown",
      "metadata": {
        "id": "SulAMiEPqMwT",
        "colab_type": "text"
      },
      "source": [
        "The graph above depicts the Gantt Chart for the project. The project will start in January 2020 and will be finishing in December 2020. Some activities can be executed simultaneously. For instance, Task 1, Task 2, Task 3 and Task 4. Once Task 4 is finished, evaluate the performance of the algorithm proposed and elaborate conclusions and final benefit will be the next task necessary to perform. "
      ]
    },
    {
      "cell_type": "markdown",
      "metadata": {
        "id": "HslUKe_xuyaH",
        "colab_type": "text"
      },
      "source": [
        "## 5.5 Expected outcome"
      ]
    },
    {
      "cell_type": "markdown",
      "metadata": {
        "id": "D6D3kh3EvPNR",
        "colab_type": "text"
      },
      "source": [
        "**Project Value Statement**\n",
        "\n",
        "The project proposed will create synthetic medical images in prostate and breast cancer. Ideally, the project will collaborate in the health care system to classify breast and prostate cancer in early stages. The project will generate a solid algorithm that will help to predict human cancer in early stage, furthermore, will facilitate the classification of human cancer in benign or malign by a cancer specialist. With the algorithm proposed, further applications will be created to assist specialist and health care institutes in the early prediction of cancer, reducing the number of deaths that have been increasing exponential due to the low number of instrument or applications that help in the classification of cancer in its early stages.\n",
        "\n",
        "\n",
        "\n",
        "\n",
        "The algorithm will reduce the number of prostate deaths in male, that was represented by 26,730 in 2017, and breast cancer, that was represented by 40,610 in 2017 Rebecca, Kimberly & Ahmedin (2017, p. 10) by 40%, due to the algorithm will facilitate the prediction of cancer in early stages, therefore an early treatment and its cure (L, D & Ahmedin 2017). "
      ]
    },
    {
      "cell_type": "markdown",
      "metadata": {
        "id": "pf61bu0mRdl1",
        "colab_type": "text"
      },
      "source": [
        "# 6. Personnel \n",
        "\n",
        "1. Project Manager – Creates deadlines and directs the project \n",
        "\n",
        "2. One Data Analysist Senior – In charge of aligning the project and direct data analyst junior\n",
        "\n",
        "3. Two Data Analysts Junior – Create the algorithm and evaluate its performance \n",
        "\n",
        "4. One Prostate Cancer Specialist – Helps to evaluate the performance of the algorithm classifying prostate cancer.\n",
        "\n",
        "5. One Breast Cancer Specialist – Helps to evaluate the performance of the algorithm classifying breast cancer."
      ]
    },
    {
      "cell_type": "markdown",
      "metadata": {
        "id": "xC4QZsY3UoBO",
        "colab_type": "text"
      },
      "source": [
        "# 7. Budget\n",
        "The budget of the project is presented as follow:"
      ]
    },
    {
      "cell_type": "code",
      "metadata": {
        "id": "RUfxZt8LSKPZ",
        "colab_type": "code",
        "colab": {
          "resources": {
            "http://localhost:8080/nbextensions/google.colab/files.js": {
              "data": "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",
              "ok": true,
              "headers": [
                [
                  "content-type",
                  "application/javascript"
                ]
              ],
              "status": 200,
              "status_text": ""
            }
          },
          "base_uri": "https://localhost:8080/",
          "height": 446
        },
        "outputId": "87ce2e87-fb43-4053-da43-2abbee23caa4"
      },
      "source": [
        "import pandas as pd\n",
        "import io\n",
        "\n",
        "from google.colab import files\n",
        "uploaded = files.upload()\n",
        "\n",
        "BudgetPart = pd.read_csv(io.StringIO(uploaded['BudgetPart.csv'].decode('utf-8')))\n",
        "\n",
        "\n",
        "pd.set_option('display.max_columns', None)  \n",
        "pd.set_option('display.max_rows', None)  \n",
        "pd.set_option('display.max_colwidth', -1)  \n",
        "\n",
        "BudgetPart"
      ],
      "execution_count": 6,
      "outputs": [
        {
          "output_type": "display_data",
          "data": {
            "text/html": [
              "\n",
              "     <input type=\"file\" id=\"files-c591f969-42d4-479c-b2bc-c63ba4155e1b\" name=\"files[]\" multiple disabled />\n",
              "     <output id=\"result-c591f969-42d4-479c-b2bc-c63ba4155e1b\">\n",
              "      Upload widget is only available when the cell has been executed in the\n",
              "      current browser session. Please rerun this cell to enable.\n",
              "      </output>\n",
              "      <script src=\"/nbextensions/google.colab/files.js\"></script> "
            ],
            "text/plain": [
              "<IPython.core.display.HTML object>"
            ]
          },
          "metadata": {
            "tags": []
          }
        },
        {
          "output_type": "stream",
          "text": [
            "Saving BudgetPart.csv to BudgetPart (3).csv\n"
          ],
          "name": "stdout"
        },
        {
          "output_type": "execute_result",
          "data": {
            "text/html": [
              "<div>\n",
              "<style scoped>\n",
              "    .dataframe tbody tr th:only-of-type {\n",
              "        vertical-align: middle;\n",
              "    }\n",
              "\n",
              "    .dataframe tbody tr th {\n",
              "        vertical-align: top;\n",
              "    }\n",
              "\n",
              "    .dataframe thead th {\n",
              "        text-align: right;\n",
              "    }\n",
              "</style>\n",
              "<table border=\"1\" class=\"dataframe\">\n",
              "  <thead>\n",
              "    <tr style=\"text-align: right;\">\n",
              "      <th></th>\n",
              "      <th>Item</th>\n",
              "      <th>Suggested Component</th>\n",
              "      <th>$ A (Millions)</th>\n",
              "    </tr>\n",
              "  </thead>\n",
              "  <tbody>\n",
              "    <tr>\n",
              "      <th>0</th>\n",
              "      <td>1.0</td>\n",
              "      <td>Database of medical images (Database (purchase &amp; implementation)) : 0.4 Millions</td>\n",
              "      <td>$0.40</td>\n",
              "    </tr>\n",
              "    <tr>\n",
              "      <th>1</th>\n",
              "      <td>2.0</td>\n",
              "      <td>Salary: Project Manager</td>\n",
              "      <td>$0.10</td>\n",
              "    </tr>\n",
              "    <tr>\n",
              "      <th>2</th>\n",
              "      <td>3.0</td>\n",
              "      <td>Salary: Data Analysist Senior</td>\n",
              "      <td>$0.10</td>\n",
              "    </tr>\n",
              "    <tr>\n",
              "      <th>3</th>\n",
              "      <td>4.0</td>\n",
              "      <td>Salary: (2) Data Analysts Junior</td>\n",
              "      <td>$0.14</td>\n",
              "    </tr>\n",
              "    <tr>\n",
              "      <th>4</th>\n",
              "      <td>5.0</td>\n",
              "      <td>Salary: Prostate Cancer Specialist</td>\n",
              "      <td>$0.12</td>\n",
              "    </tr>\n",
              "    <tr>\n",
              "      <th>5</th>\n",
              "      <td>6.0</td>\n",
              "      <td>Salary: Breast Cancer Specialist</td>\n",
              "      <td>$0.12</td>\n",
              "    </tr>\n",
              "    <tr>\n",
              "      <th>6</th>\n",
              "      <td>7.0</td>\n",
              "      <td>Hardware and network infrastructure and security components (RFP, purchase &amp; implementation)</td>\n",
              "      <td>$0.03</td>\n",
              "    </tr>\n",
              "    <tr>\n",
              "      <th>7</th>\n",
              "      <td>8.0</td>\n",
              "      <td>Digital Rights Management (research, design &amp; implementation)</td>\n",
              "      <td>$0.05</td>\n",
              "    </tr>\n",
              "    <tr>\n",
              "      <th>8</th>\n",
              "      <td>9.0</td>\n",
              "      <td>Training of personnel in the use of the proyect</td>\n",
              "      <td>$0.10</td>\n",
              "    </tr>\n",
              "    <tr>\n",
              "      <th>9</th>\n",
              "      <td>10.0</td>\n",
              "      <td>Contingency</td>\n",
              "      <td>$0.02</td>\n",
              "    </tr>\n",
              "    <tr>\n",
              "      <th>10</th>\n",
              "      <td>NaN</td>\n",
              "      <td>TOTAL</td>\n",
              "      <td>$1.18</td>\n",
              "    </tr>\n",
              "  </tbody>\n",
              "</table>\n",
              "</div>"
            ],
            "text/plain": [
              "    Item  \\\n",
              "0   1.0    \n",
              "1   2.0    \n",
              "2   3.0    \n",
              "3   4.0    \n",
              "4   5.0    \n",
              "5   6.0    \n",
              "6   7.0    \n",
              "7   8.0    \n",
              "8   9.0    \n",
              "9   10.0   \n",
              "10 NaN     \n",
              "\n",
              "                                                                            Suggested Component   \\\n",
              "0   Database of medical images (Database (purchase & implementation)) : 0.4 Millions               \n",
              "1   Salary: Project Manager                                                                        \n",
              "2   Salary: Data Analysist Senior                                                                  \n",
              "3   Salary: (2) Data Analysts Junior                                                               \n",
              "4   Salary: Prostate Cancer Specialist                                                             \n",
              "5   Salary: Breast Cancer Specialist                                                               \n",
              "6   Hardware and network infrastructure and security components (RFP, purchase & implementation)   \n",
              "7   Digital Rights Management (research, design & implementation)                                  \n",
              "8   Training of personnel in the use of the proyect                                                \n",
              "9   Contingency                                                                                    \n",
              "10  TOTAL                                                                                          \n",
              "\n",
              "   $ A (Millions)  \n",
              "0   $0.40          \n",
              "1   $0.10          \n",
              "2   $0.10          \n",
              "3   $0.14          \n",
              "4   $0.12          \n",
              "5   $0.12          \n",
              "6   $0.03          \n",
              "7   $0.05          \n",
              "8   $0.10          \n",
              "9   $0.02          \n",
              "10  $1.18          "
            ]
          },
          "metadata": {
            "tags": []
          },
          "execution_count": 6
        }
      ]
    },
    {
      "cell_type": "markdown",
      "metadata": {
        "id": "J6WGnQcRYrOR",
        "colab_type": "text"
      },
      "source": [
        "# References\n",
        "\n",
        "\n",
        "*   Frid-Adar, M., Diamant, I., Klang, E., Amitai, M., Goldberger, J. & Greenspan, H. 2018, 'GAN-based synthetic medical image augmentation for increased CNN performance in liver lesion classification', Neurocomputing, vol. 321, pp. 321-31.\n",
        "\n",
        "*   Han, C., Hayashi, H., Rundo, L., Araki, R., Shimoda, W., Muramatsu, S., Furukawa, Y., Mauri, G. & Nakayama, H. 2018, 'GAN-based synthetic brain MR image generation', 2018 IEEE 15th International Symposium on Biomedical Imaging (ISBI 2018), IEEE, pp. 734-8.\n",
        "\n",
        "\n",
        "*   Kazeminia, S., Baur, C., Kuijper, A., van Ginneken, B., Navab, N., Albarqouni, S. & Mukhopadhyay, A. 2018, 'GANs for medical image analysis', arXiv preprint arXiv:1809.06222.\n",
        "\n",
        "\n",
        "*   L, S.R., D, M.K. & Ahmedin, J. 2017, 'Cancer statistics 2017', Cancer Journal for Clinicians, vol. 2017.\n",
        "\n",
        "\n",
        "*   Rebecca, S., Kimberly, M. & Ahmedin, J. 2017, 'Cancer statistics, 2017', CA: A Cancer Journal for Clinicians, vol. 67, pp. 7-30.\n",
        "\n",
        "\n",
        "*   Wardle, J., Robb, K., Vernon, S. & Waller, J. 2015, 'Screening for prevention and early diagnosis of cancer', American psychologist, vol. 70, no. 2, p. 119.\n",
        "\n",
        "\n"
      ]
    },
    {
      "cell_type": "markdown",
      "metadata": {
        "id": "71L6JCwdMMSK",
        "colab_type": "text"
      },
      "source": [
        "# Video Link \n",
        "\n",
        "https://www.youtube.com/watch?v=ECWpOcYqYd0&rel=0"
      ]
    },
    {
      "cell_type": "markdown",
      "metadata": {
        "id": "GoqShznwNkDM",
        "colab_type": "text"
      },
      "source": [
        "# GitHub Link\n",
        "\n",
        "https://github.com/lagos-a1/AndresLagos_13092248_A3_MachineLearning/blob/master/A3.ipynb\n"
      ]
    }
  ]
}